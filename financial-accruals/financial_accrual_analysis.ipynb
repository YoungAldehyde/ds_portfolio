{
 "cells": [
  {
   "cell_type": "markdown",
   "metadata": {},
   "source": [
    "## Background\n",
    "The main goal for this case is for us to understand your ability to understand the data provided and draw critical insights from the dataset. There are four tables for you to work with: \n",
    "1. Customer Accounts (id, name): a list of our customers with their names redacted and a unique identifier\n",
    "2. Financial Accounts (id, customer_account_id, name): a list of bank accounts belonging to our customers\n",
    "    * Customer_account_id: The ID of the customer that owns this bank account from Customer Accounts (table 1)\n",
    "    * Id, name: Unique financial account identifier and redacted name of the account\n",
    "3. Financial Balances (id, account_id, amount, accrual_date): a reading of the beginning-of-day (BoD) balance for each financial account\n",
    "    * Account_id: the ID of the financial account (table 2) that the balance belongs to\n",
    "    * Amount and accrual_date: The balance (in dollars) and date this reading was taken\n",
    "4. Financial Transactions (id, account_id, amount, accrual_date): list of transactions incoming and outgoing for each financial account\n",
    "    * Account_id: the ID of the financial account (table 2) that the transaction belongs to\n",
    "    * Amount and accrual_date: the amount (in dollars) of each transaction and the date when the transaction occurred. Negative transactions are money leaving the bank account and positive transactions are money coming in."
   ]
  },
  {
   "cell_type": "code",
   "execution_count": 254,
   "metadata": {},
   "outputs": [],
   "source": [
    "import pandas as pd\n",
    "import numpy as np\n",
    "from IPython.display import display\n",
    "pd.set_option(\"display.max_rows\", 999)"
   ]
  },
  {
   "cell_type": "code",
   "execution_count": 154,
   "metadata": {},
   "outputs": [],
   "source": [
    "#load csv\n",
    "customer_accounts = pd.read_csv(\"customer_accounts.csv\")\n",
    "financial_accounts = pd.read_csv(\"financial_accounts.csv\")\n",
    "financial_balances = pd.read_csv(\"financial_balances.csv\")\n",
    "financial_transactions = pd.read_csv(\"financial_transactions.csv\")"
   ]
  },
  {
   "cell_type": "code",
   "execution_count": 155,
   "metadata": {},
   "outputs": [],
   "source": [
    "#pre-processing\n",
    "financial_balances['accrual_date'] = pd.to_datetime(financial_balances['accrual_date'],format = \"%Y-%m-%d\")\n",
    "financial_transactions['accrual_date'] = pd.to_datetime(financial_transactions['accrual_date'],format = \"%Y-%m-%d\")"
   ]
  },
  {
   "cell_type": "markdown",
   "metadata": {},
   "source": [
    "## Questions\n",
    "\n",
    "For the following questions:\n",
    "- `Customer A` = \"a_53\"\n",
    "- `Customer A Account 1` = \"a_53_1\" \n",
    "- `Customer A Balance Date` = \"2020-07-04\n",
    "- `Customer B` = \"a_32\" \n",
    "- `Customer B Balance Date` = \"2020-08-12\""
   ]
  },
  {
   "cell_type": "code",
   "execution_count": 100,
   "metadata": {},
   "outputs": [],
   "source": [
    "# recommended to run\n",
    "customer_a = 'a_53'\n",
    "customer_a_account_1 = 'a_53_1'\n",
    "customer_a_balance_date = '2020-07-04'\n",
    "customer_b = 'a_32'\n",
    "customer_b_balance_date= '2020-08-12'"
   ]
  },
  {
   "cell_type": "code",
   "execution_count": 101,
   "metadata": {},
   "outputs": [
    {
     "output_type": "display_data",
     "data": {
      "text/plain": "    id         name\n0  a_0  a_0_company\n1  a_1  a_1_company\n2  a_2  a_2_company",
      "text/html": "<div>\n<style scoped>\n    .dataframe tbody tr th:only-of-type {\n        vertical-align: middle;\n    }\n\n    .dataframe tbody tr th {\n        vertical-align: top;\n    }\n\n    .dataframe thead th {\n        text-align: right;\n    }\n</style>\n<table border=\"1\" class=\"dataframe\">\n  <thead>\n    <tr style=\"text-align: right;\">\n      <th></th>\n      <th>id</th>\n      <th>name</th>\n    </tr>\n  </thead>\n  <tbody>\n    <tr>\n      <th>0</th>\n      <td>a_0</td>\n      <td>a_0_company</td>\n    </tr>\n    <tr>\n      <th>1</th>\n      <td>a_1</td>\n      <td>a_1_company</td>\n    </tr>\n    <tr>\n      <th>2</th>\n      <td>a_2</td>\n      <td>a_2_company</td>\n    </tr>\n  </tbody>\n</table>\n</div>"
     },
     "metadata": {}
    },
    {
     "output_type": "display_data",
     "data": {
      "text/plain": "      id customer_account_id               name\n0  a_0_0                 a_0  a_0_0_fin_account\n1  a_0_1                 a_0  a_0_1_fin_account\n2  a_0_2                 a_0  a_0_2_fin_account",
      "text/html": "<div>\n<style scoped>\n    .dataframe tbody tr th:only-of-type {\n        vertical-align: middle;\n    }\n\n    .dataframe tbody tr th {\n        vertical-align: top;\n    }\n\n    .dataframe thead th {\n        text-align: right;\n    }\n</style>\n<table border=\"1\" class=\"dataframe\">\n  <thead>\n    <tr style=\"text-align: right;\">\n      <th></th>\n      <th>id</th>\n      <th>customer_account_id</th>\n      <th>name</th>\n    </tr>\n  </thead>\n  <tbody>\n    <tr>\n      <th>0</th>\n      <td>a_0_0</td>\n      <td>a_0</td>\n      <td>a_0_0_fin_account</td>\n    </tr>\n    <tr>\n      <th>1</th>\n      <td>a_0_1</td>\n      <td>a_0</td>\n      <td>a_0_1_fin_account</td>\n    </tr>\n    <tr>\n      <th>2</th>\n      <td>a_0_2</td>\n      <td>a_0</td>\n      <td>a_0_2_fin_account</td>\n    </tr>\n  </tbody>\n</table>\n</div>"
     },
     "metadata": {}
    },
    {
     "output_type": "display_data",
     "data": {
      "text/plain": "            id account_id accrual_date     amount\n0  a_0_0_bal_0      a_0_0   2019-12-24  9950997.0\n1  a_0_0_bal_1      a_0_0   2019-12-25  9950749.0\n2  a_0_0_bal_2      a_0_0   2019-12-26  9949890.0",
      "text/html": "<div>\n<style scoped>\n    .dataframe tbody tr th:only-of-type {\n        vertical-align: middle;\n    }\n\n    .dataframe tbody tr th {\n        vertical-align: top;\n    }\n\n    .dataframe thead th {\n        text-align: right;\n    }\n</style>\n<table border=\"1\" class=\"dataframe\">\n  <thead>\n    <tr style=\"text-align: right;\">\n      <th></th>\n      <th>id</th>\n      <th>account_id</th>\n      <th>accrual_date</th>\n      <th>amount</th>\n    </tr>\n  </thead>\n  <tbody>\n    <tr>\n      <th>0</th>\n      <td>a_0_0_bal_0</td>\n      <td>a_0_0</td>\n      <td>2019-12-24</td>\n      <td>9950997.0</td>\n    </tr>\n    <tr>\n      <th>1</th>\n      <td>a_0_0_bal_1</td>\n      <td>a_0_0</td>\n      <td>2019-12-25</td>\n      <td>9950749.0</td>\n    </tr>\n    <tr>\n      <th>2</th>\n      <td>a_0_0_bal_2</td>\n      <td>a_0_0</td>\n      <td>2019-12-26</td>\n      <td>9949890.0</td>\n    </tr>\n  </tbody>\n</table>\n</div>"
     },
     "metadata": {}
    },
    {
     "output_type": "display_data",
     "data": {
      "text/plain": "  account_id accrual_date  amount       id\n0      a_0_0   2019-12-24  -248.0  a_0_0_0\n1      a_0_0   2019-12-25  -859.0  a_0_0_1\n2      a_0_0   2019-12-26  -776.0  a_0_0_2",
      "text/html": "<div>\n<style scoped>\n    .dataframe tbody tr th:only-of-type {\n        vertical-align: middle;\n    }\n\n    .dataframe tbody tr th {\n        vertical-align: top;\n    }\n\n    .dataframe thead th {\n        text-align: right;\n    }\n</style>\n<table border=\"1\" class=\"dataframe\">\n  <thead>\n    <tr style=\"text-align: right;\">\n      <th></th>\n      <th>account_id</th>\n      <th>accrual_date</th>\n      <th>amount</th>\n      <th>id</th>\n    </tr>\n  </thead>\n  <tbody>\n    <tr>\n      <th>0</th>\n      <td>a_0_0</td>\n      <td>2019-12-24</td>\n      <td>-248.0</td>\n      <td>a_0_0_0</td>\n    </tr>\n    <tr>\n      <th>1</th>\n      <td>a_0_0</td>\n      <td>2019-12-25</td>\n      <td>-859.0</td>\n      <td>a_0_0_1</td>\n    </tr>\n    <tr>\n      <th>2</th>\n      <td>a_0_0</td>\n      <td>2019-12-26</td>\n      <td>-776.0</td>\n      <td>a_0_0_2</td>\n    </tr>\n  </tbody>\n</table>\n</div>"
     },
     "metadata": {}
    }
   ],
   "source": [
    "for df in [customer_accounts,financial_accounts,financial_balances,financial_transactions]:\n",
    "    display(df.head(3))"
   ]
  },
  {
   "cell_type": "markdown",
   "metadata": {},
   "source": [
    "### Question 1.\n",
    "Recommended time usage: ~10 minutes\n",
    "\n",
    "(a) What is the average historic daily balance (beginning-of-day) for `Customer A Account 1`? Round to the nearest integer. ( 1 Point )\n",
    "\n",
    "(b) What is `Customer A`'s global balance (sum of all beginning-of-day balances across all financial accounts associated with `Customer A`) on `Customer A Balance Date`? Round to the nearest integer. ( 1 Point )\n"
   ]
  },
  {
   "cell_type": "code",
   "execution_count": 102,
   "metadata": {},
   "outputs": [
    {
     "output_type": "stream",
     "name": "stdout",
     "text": [
      "10008868\n"
     ]
    }
   ],
   "source": [
    "#1a\n",
    "answer_1a = int(np.mean(financial_balances[financial_balances['account_id'] == customer_a_account_1]['amount']))\n",
    "print(answer_1a)"
   ]
  },
  {
   "cell_type": "code",
   "execution_count": 103,
   "metadata": {},
   "outputs": [
    {
     "output_type": "stream",
     "name": "stdout",
     "text": [
      "5708833407\n"
     ]
    }
   ],
   "source": [
    "#1b\n",
    "customer_a_all_accounts = financial_accounts[financial_accounts['customer_account_id'] == customer_a]['id'].unique()\n",
    "answer_1b = int(np.sum(financial_balances[financial_balances['account_id'].isin(customer_a_all_accounts)]['amount']))\n",
    "print(answer_1b)"
   ]
  },
  {
   "cell_type": "markdown",
   "metadata": {},
   "source": [
    "### Question 2.\n",
    "\n",
    "Recommended time usage: ~10 minutes\n",
    "\n",
    "`financial_balances.csv` shows you the beginning-of-day (BoD) balance, but transactions happened throughout the day. Calculate the end-of-day (EoD) global balance for `Customer A` on `Customer A Balance Date`. ( 1 point )"
   ]
  },
  {
   "cell_type": "code",
   "execution_count": 106,
   "metadata": {},
   "outputs": [
    {
     "output_type": "stream",
     "name": "stdout",
     "text": [
      "39799795\n"
     ]
    }
   ],
   "source": [
    "#2\n",
    "\n",
    "#create an array of all sub accounts under customer a\n",
    "customer_a_all_accounts = financial_accounts[financial_accounts['customer_account_id'] == customer_a]['id'].unique()\n",
    "\n",
    "#beginning balance for Customer A on Customer A Balance Date\n",
    "beg_bal_cust_a_balance_date = np.sum(financial_balances[(financial_balances['account_id'].isin(customer_a_all_accounts)) & (financial_balances['accrual_date'] == customer_a_balance_date)]['amount'])\n",
    "\n",
    "#sum of transactions throughout the day for Customer A on Customer A Balance Date\n",
    "sum_of_trans_cust_a_balance_date = np.sum(financial_transactions[(financial_transactions['account_id'].isin(customer_a_all_accounts)) & (financial_transactions['accrual_date'] == customer_a_balance_date)].groupby(['account_id']).agg({\"amount\":\"sum\"}).reset_index()['amount'])\n",
    "\n",
    "answer_2 = int(np.sum([beg_bal_cust_a_balance_date,sum_of_trans_cust_a_balance_date]))\n",
    "print(answer_2)"
   ]
  },
  {
   "cell_type": "markdown",
   "metadata": {},
   "source": [
    "### Question 3.\n",
    "Recommended time usage: ~20 minutes\n",
    "\n",
    "(a) Among the `customer_account_id`s without any missing or null/NaN beginning-of-day balance for any date in between their first and their last `accrual_date`s, which `customer_account_id` has the largest variance of the sums of daily transactions amounts across all accounts? ( 1 points )\n",
    "\n",
    "(b) Among the `customer_account_id`s without any missing or null/NaN beginning-of-day balance for any date in between their first and their last `accrual_date`s, which `customer_account_id` has the largest variance of the EoD (end-of-day, not beginning-of-day) global balances? ( 2 points )\n"
   ]
  },
  {
   "cell_type": "code",
   "execution_count": 209,
   "metadata": {},
   "outputs": [
    {
     "output_type": "stream",
     "name": "stdout",
     "text": [
      "a_65_2\n"
     ]
    }
   ],
   "source": [
    "#3a\n",
    "financial_balances['min_accrual_date'] = financial_balances.groupby('account_id')['accrual_date'].transform(np.min)\n",
    "financial_balances['max_accrual_date'] = financial_balances.groupby('account_id')['accrual_date'].transform(np.max)\n",
    "financial_balances['n_days_between_min_max_accural_dates'] = ((financial_balances['max_accrual_date'] - financial_balances['min_accrual_date']) / np.timedelta64(1, 'D')).astype('int64')\n",
    "financial_balances['n_unique_accrual_dates'] = financial_balances.groupby('account_id')['accrual_date'].transform(lambda x: len(set(x)))\n",
    "financial_balances['account_missing_any_bod_min_to_max_accrual'] = np.where(financial_balances['n_days_between_min_max_accural_dates'] + 1 == financial_balances['n_unique_accrual_dates'],0,1)\n",
    "\n",
    "#filter df to only the records of accounts with non missing bod balance data \n",
    "non_missing_account_ids = set(financial_balances[financial_balances['account_missing_any_bod_min_to_max_accrual'] == 0]['account_id'])\n",
    "financial_balances_nn = financial_balances[financial_balances['account_id'].isin(non_missing_account_ids)]\n",
    "financial_transactions_nn = financial_transactions[financial_transactions['account_id'].isin(non_missing_account_ids)]\n",
    "\n",
    "answer_3a = financial_transactions_nn.groupby(['account_id','accrual_date']).agg({\"amount\":np.sum}).reset_index().groupby('account_id').agg({\"amount\":np.std}).rename(columns={\"amount\": \"var_of_sums_of_daily_trans\"}).idxmax().values[0]\n",
    "print(answer_3a)"
   ]
  },
  {
   "cell_type": "code",
   "execution_count": 229,
   "metadata": {},
   "outputs": [
    {
     "output_type": "stream",
     "name": "stdout",
     "text": [
      "a_139_1\n"
     ]
    }
   ],
   "source": [
    "#3b\n",
    "\n",
    "#sum of transactions throughout the day for Customer X on Customer Y Balance Date\n",
    "sum_daily_trans = financial_transactions_nn.groupby(['account_id','accrual_date']).agg({\"amount\":np.sum}).reset_index()\n",
    "\n",
    "financial_balances_nn_merged = financial_balances_nn.merge(sum_daily_trans,left_on=[\"account_id\",\"accrual_date\"],right_on=[\"account_id\",\"accrual_date\"])\n",
    "\n",
    "financial_balances_nn_merged['amount_EoD'] = financial_balances_nn_merged['amount_x'] + financial_balances_nn_merged['amount_y']\n",
    "\n",
    "answer_3b = financial_balances_nn_merged.groupby('account_id').agg({\"amount_EoD\":np.std}).idxmax().values[0]\n",
    "print(answer_3b)"
   ]
  },
  {
   "source": [
    "___________________________________________________________________________________________________"
   ],
   "cell_type": "markdown",
   "metadata": {}
  },
  {
   "source": [
    "### Question 4. \n",
    "\n",
    "Recommended time usage: ~60+ minutes\n",
    "\n",
    "(a) Calculate the `end-of-day` global balance for `Customer B` on `Customer B Balance Date`. Fill in this EoD balance as the answer in the submission csv. ( 4 points )\n",
    "\n",
    "(b) Compute the `end-of-day` balances for all `financial_accounts`. Fill in as many missing dates as possible. The final dataset should include daily `end-of-day` balances for all `financial_accounts` as a csv in a similar format as `financial_balances.csv` (include just those columns: [`account_id, accrual_date, amount`]) and named `financial_balances_submission.csv`. ( 10 points )\n"
   ],
   "cell_type": "markdown",
   "metadata": {}
  },
  {
   "cell_type": "code",
   "execution_count": 261,
   "metadata": {},
   "outputs": [
    {
     "output_type": "execute_result",
     "data": {
      "text/plain": [
       "         id customer_account_id                name\n",
       "129  a_32_0                a_32  a_32_0_fin_account\n",
       "130  a_32_1                a_32  a_32_1_fin_account"
      ],
      "text/html": "<div>\n<style scoped>\n    .dataframe tbody tr th:only-of-type {\n        vertical-align: middle;\n    }\n\n    .dataframe tbody tr th {\n        vertical-align: top;\n    }\n\n    .dataframe thead th {\n        text-align: right;\n    }\n</style>\n<table border=\"1\" class=\"dataframe\">\n  <thead>\n    <tr style=\"text-align: right;\">\n      <th></th>\n      <th>id</th>\n      <th>customer_account_id</th>\n      <th>name</th>\n    </tr>\n  </thead>\n  <tbody>\n    <tr>\n      <th>129</th>\n      <td>a_32_0</td>\n      <td>a_32</td>\n      <td>a_32_0_fin_account</td>\n    </tr>\n    <tr>\n      <th>130</th>\n      <td>a_32_1</td>\n      <td>a_32</td>\n      <td>a_32_1_fin_account</td>\n    </tr>\n  </tbody>\n</table>\n</div>"
     },
     "metadata": {},
     "execution_count": 261
    }
   ],
   "source": [
    "financial_accounts[financial_accounts['customer_account_id'] == customer_b]"
   ]
  },
  {
   "cell_type": "code",
   "execution_count": 608,
   "metadata": {},
   "outputs": [],
   "source": [
    "try:\n",
    "    #test_list = ['a_32_0','a_32_1']\n",
    "    sum_daily_trans_original = financial_transactions.groupby(['account_id','accrual_date']).agg({\"amount\":np.sum}).reset_index()\n",
    "\n",
    "    frames = []\n",
    "\n",
    "    for account in financial_balances['account_id'].unique():\n",
    "    #for account in test_list:\n",
    "        min_accrual_date = financial_balances[financial_balances['account_id'] == account]['accrual_date'].min()\n",
    "        max_accrual_date = financial_balances[financial_balances['account_id'] == account]['accrual_date'].max()\n",
    "        idx = pd.date_range(start=min_accrual_date,end=max_accrual_date)\n",
    "        s = financial_balances[financial_balances['account_id'] == account].set_index(\"accrual_date\")\n",
    "        s.index = pd.DatetimeIndex(s.index)\n",
    "        s = s.reindex(idx,fill_value=account)\n",
    "\n",
    "        s_merged = s.reset_index().rename(columns={\"index\": \"accrual_date\"})[['accrual_date','account_id','amount']].merge(sum_daily_trans_original,left_on=[\"account_id\",\"accrual_date\"],right_on=[\"account_id\",\"accrual_date\"])\n",
    "        s_merged['amount_x'] = [np.nan if isinstance(x, str) else x for x in s_merged['amount_x']]\n",
    "        s_merged = s_merged[['accrual_date','account_id','amount_x','amount_y']]\n",
    "\n",
    "\n",
    "        for ix, row in s_merged.iterrows():\n",
    "            if ix < len(s_merged)-1:\n",
    "                if np.isnan(s_merged.loc[ix,'amount_x']):\n",
    "                    s_merged.loc[ix, 'amount_x'] = s_merged.loc[ix-1,'amount_x'] + s_merged.loc[ix-1,'amount_y']\n",
    "                else:\n",
    "                    s_merged.loc[ix, 'amount_x'] = s_merged.loc[ix,'amount_x']\n",
    "        frames.append(s_merged)\n",
    "except KeyError:\n",
    "    pass"
   ]
  },
  {
   "cell_type": "code",
   "execution_count": 609,
   "metadata": {},
   "outputs": [],
   "source": [
    "result = pd.concat(frames)\n",
    "result['amount_eod'] = result['amount_x'] + result['amount_y']"
   ]
  },
  {
   "cell_type": "code",
   "execution_count": 610,
   "metadata": {},
   "outputs": [
    {
     "output_type": "execute_result",
     "data": {
      "text/plain": [
       "   accrual_date account_id    amount_x  amount_y  amount_eod\n",
       "0    2019-12-24      a_0_0   9950997.0    -248.0   9950749.0\n",
       "1    2019-12-25      a_0_0   9950749.0    -859.0   9949890.0\n",
       "2    2019-12-26      a_0_0   9949890.0    -776.0   9949114.0\n",
       "3    2019-12-27      a_0_0   9949114.0    -605.0   9948509.0\n",
       "4    2019-12-28      a_0_0   9948509.0     -33.0   9948476.0\n",
       "..          ...        ...         ...       ...         ...\n",
       "59   2020-08-28     a_65_3  10213656.0   -1507.0  10212149.0\n",
       "60   2020-08-29     a_65_3  10212149.0    -963.0  10211186.0\n",
       "61   2020-08-30     a_65_3  10211186.0   -1177.0  10210009.0\n",
       "62   2020-08-31     a_65_3  10210009.0    -539.0  10209470.0\n",
       "63   2020-09-01     a_65_3  10209470.0    -527.0  10208943.0\n",
       "\n",
       "[37448 rows x 5 columns]"
      ],
      "text/html": "<div>\n<style scoped>\n    .dataframe tbody tr th:only-of-type {\n        vertical-align: middle;\n    }\n\n    .dataframe tbody tr th {\n        vertical-align: top;\n    }\n\n    .dataframe thead th {\n        text-align: right;\n    }\n</style>\n<table border=\"1\" class=\"dataframe\">\n  <thead>\n    <tr style=\"text-align: right;\">\n      <th></th>\n      <th>accrual_date</th>\n      <th>account_id</th>\n      <th>amount_x</th>\n      <th>amount_y</th>\n      <th>amount_eod</th>\n    </tr>\n  </thead>\n  <tbody>\n    <tr>\n      <th>0</th>\n      <td>2019-12-24</td>\n      <td>a_0_0</td>\n      <td>9950997.0</td>\n      <td>-248.0</td>\n      <td>9950749.0</td>\n    </tr>\n    <tr>\n      <th>1</th>\n      <td>2019-12-25</td>\n      <td>a_0_0</td>\n      <td>9950749.0</td>\n      <td>-859.0</td>\n      <td>9949890.0</td>\n    </tr>\n    <tr>\n      <th>2</th>\n      <td>2019-12-26</td>\n      <td>a_0_0</td>\n      <td>9949890.0</td>\n      <td>-776.0</td>\n      <td>9949114.0</td>\n    </tr>\n    <tr>\n      <th>3</th>\n      <td>2019-12-27</td>\n      <td>a_0_0</td>\n      <td>9949114.0</td>\n      <td>-605.0</td>\n      <td>9948509.0</td>\n    </tr>\n    <tr>\n      <th>4</th>\n      <td>2019-12-28</td>\n      <td>a_0_0</td>\n      <td>9948509.0</td>\n      <td>-33.0</td>\n      <td>9948476.0</td>\n    </tr>\n    <tr>\n      <th>...</th>\n      <td>...</td>\n      <td>...</td>\n      <td>...</td>\n      <td>...</td>\n      <td>...</td>\n    </tr>\n    <tr>\n      <th>59</th>\n      <td>2020-08-28</td>\n      <td>a_65_3</td>\n      <td>10213656.0</td>\n      <td>-1507.0</td>\n      <td>10212149.0</td>\n    </tr>\n    <tr>\n      <th>60</th>\n      <td>2020-08-29</td>\n      <td>a_65_3</td>\n      <td>10212149.0</td>\n      <td>-963.0</td>\n      <td>10211186.0</td>\n    </tr>\n    <tr>\n      <th>61</th>\n      <td>2020-08-30</td>\n      <td>a_65_3</td>\n      <td>10211186.0</td>\n      <td>-1177.0</td>\n      <td>10210009.0</td>\n    </tr>\n    <tr>\n      <th>62</th>\n      <td>2020-08-31</td>\n      <td>a_65_3</td>\n      <td>10210009.0</td>\n      <td>-539.0</td>\n      <td>10209470.0</td>\n    </tr>\n    <tr>\n      <th>63</th>\n      <td>2020-09-01</td>\n      <td>a_65_3</td>\n      <td>10209470.0</td>\n      <td>-527.0</td>\n      <td>10208943.0</td>\n    </tr>\n  </tbody>\n</table>\n<p>37448 rows × 5 columns</p>\n</div>"
     },
     "metadata": {},
     "execution_count": 610
    }
   ],
   "source": [
    "result"
   ]
  },
  {
   "cell_type": "code",
   "execution_count": 634,
   "metadata": {},
   "outputs": [
    {
     "output_type": "stream",
     "name": "stdout",
     "text": [
      "20019370.0\n"
     ]
    }
   ],
   "source": [
    "answer_4a = result[(result['account_id'] == 'a_32_0') & (result['accrual_date'] == customer_b_balance_date)]['amount_eod'].values[0] + result[(result['account_id'] == 'a_32_1') & (result['accrual_date'] == customer_b_balance_date)]['amount_eod'].values[0]\n",
    "print(answer_4a)"
   ]
  },
  {
   "cell_type": "code",
   "execution_count": 635,
   "metadata": {},
   "outputs": [],
   "source": [
    "answer_4b = result[[\"account_id\", \"accrual_date\", \"amount_eod\"]]\n",
    "answer_4b.to_csv(\"answer_4b.csv\",index=False)"
   ]
  }
 ],
 "metadata": {
  "kernelspec": {
   "name": "python3",
   "display_name": "Python 3.7.3 32-bit",
   "metadata": {
    "interpreter": {
     "hash": "176ed7074dac5392121fe20cc63b8a25e8cf34c6f1ec6a1ab2217b716782b9b2"
    }
   }
  },
  "language_info": {
   "codemirror_mode": {
    "name": "ipython",
    "version": 3
   },
   "file_extension": ".py",
   "mimetype": "text/x-python",
   "name": "python",
   "nbconvert_exporter": "python",
   "pygments_lexer": "ipython3",
   "version": "3.7.3-final"
  }
 },
 "nbformat": 4,
 "nbformat_minor": 4
}