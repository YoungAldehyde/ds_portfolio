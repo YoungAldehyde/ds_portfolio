{
 "metadata": {
  "language_info": {
   "codemirror_mode": {
    "name": "ipython",
    "version": 3
   },
   "file_extension": ".py",
   "mimetype": "text/x-python",
   "name": "python",
   "nbconvert_exporter": "python",
   "pygments_lexer": "ipython3",
   "version": "3.7.3-final"
  },
  "orig_nbformat": 2,
  "kernelspec": {
   "name": "python3",
   "display_name": "Python 3",
   "language": "python"
  }
 },
 "nbformat": 4,
 "nbformat_minor": 2,
 "cells": [
  {
   "cell_type": "code",
   "execution_count": 1,
   "metadata": {},
   "outputs": [
    {
     "output_type": "stream",
     "name": "stdout",
     "text": [
      "Downloading customer-churn-prediction-2020.zip to c:\\Users\\YC\\Documents\\YoungAldehydeGit\n",
      "\n",
      "\n",
      "  0%|          | 0.00/154k [00:00<?, ?B/s]\n",
      "100%|██████████| 154k/154k [00:00<00:00, 2.37MB/s]\n"
     ]
    }
   ],
   "source": [
    "#download kaggle data\n",
    "!kaggle competitions download -c customer-churn-prediction-2020"
   ]
  },
  {
   "cell_type": "code",
   "execution_count": null,
   "metadata": {},
   "outputs": [],
   "source": []
  }
 ]
}