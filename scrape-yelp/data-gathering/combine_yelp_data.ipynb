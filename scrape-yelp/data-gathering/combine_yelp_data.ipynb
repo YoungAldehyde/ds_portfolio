{
 "metadata": {
  "language_info": {
   "codemirror_mode": {
    "name": "ipython",
    "version": 3
   },
   "file_extension": ".py",
   "mimetype": "text/x-python",
   "name": "python",
   "nbconvert_exporter": "python",
   "pygments_lexer": "ipython3",
   "version": "3.7.3"
  },
  "orig_nbformat": 2,
  "kernelspec": {
   "name": "python373jvsc74a57bd0176ed7074dac5392121fe20cc63b8a25e8cf34c6f1ec6a1ab2217b716782b9b2",
   "display_name": "Python 3.7.3 32-bit"
  },
  "metadata": {
   "interpreter": {
    "hash": "176ed7074dac5392121fe20cc63b8a25e8cf34c6f1ec6a1ab2217b716782b9b2"
   }
  }
 },
 "nbformat": 4,
 "nbformat_minor": 2,
 "cells": [
  {
   "cell_type": "code",
   "execution_count": 21,
   "metadata": {},
   "outputs": [],
   "source": [
    "import pandas as pd\n",
    "import glob\n",
    "import os\n",
    "from datetime import datetime"
   ]
  },
  {
   "cell_type": "code",
   "execution_count": 24,
   "metadata": {},
   "outputs": [
    {
     "output_type": "stream",
     "name": "stdout",
     "text": [
      "['./yelp_data_by_city\\\\Austin_yelp_data.csv', './yelp_data_by_city\\\\Charlotte_yelp_data.csv', './yelp_data_by_city\\\\Chicago_yelp_data.csv', './yelp_data_by_city\\\\Columbus_yelp_data.csv', './yelp_data_by_city\\\\Dallas_yelp_data.csv', './yelp_data_by_city\\\\Denver_yelp_data.csv', './yelp_data_by_city\\\\Fort Worth_yelp_data.csv', './yelp_data_by_city\\\\Houston_yelp_data.csv', './yelp_data_by_city\\\\Indianapolis_yelp_data.csv', './yelp_data_by_city\\\\Jacksonville_yelp_data.csv', './yelp_data_by_city\\\\Los Angeles_yelp_data.csv', './yelp_data_by_city\\\\New York City_yelp_data.csv', './yelp_data_by_city\\\\Philadelphia_yelp_data.csv', './yelp_data_by_city\\\\Phoenix_yelp_data.csv', './yelp_data_by_city\\\\San Antonio_yelp_data.csv', './yelp_data_by_city\\\\San Diego_yelp_data.csv', './yelp_data_by_city\\\\San Francisco_yelp_data.csv', './yelp_data_by_city\\\\San Jose_yelp_data.csv', './yelp_data_by_city\\\\seattle_yelp_data.csv']\n"
     ]
    }
   ],
   "source": [
    "path = './yelp_data_by_city/'\n",
    "all_files = glob.glob(path + \"/*.csv\")\n",
    "yelp_data_city_csv_list = os.listdir(path)\n",
    "print(all_files)"
   ]
  },
  {
   "cell_type": "code",
   "execution_count": 25,
   "metadata": {},
   "outputs": [
    {
     "output_type": "stream",
     "name": "stdout",
     "text": [
      "['Austin', 'Charlotte', 'Chicago', 'Columbus', 'Dallas', 'Denver', 'Fort Worth', 'Houston', 'Indianapolis', 'Jacksonville', 'Los Angeles', 'New York City', 'Philadelphia', 'Phoenix', 'San Antonio', 'San Diego', 'San Francisco', 'San Jose', 'seattle']\n"
     ]
    }
   ],
   "source": [
    "city_names = []\n",
    "for i in range(len(yelp_data_city_csv_list)):\n",
    "    city_name = yelp_data_city_csv_list[i].split('_')[0]\n",
    "    city_names.append(city_name)\n",
    "print(city_names)    "
   ]
  },
  {
   "cell_type": "code",
   "execution_count": 27,
   "metadata": {},
   "outputs": [],
   "source": [
    "li = []\n",
    "\n",
    "for filename, city_name in zip(all_files, city_names):\n",
    "    df = pd.read_csv(filename, index_col=None, header=0)\n",
    "    df['city'] = city_name\n",
    "    li.append(df)\n",
    "\n",
    "frame = pd.concat(li, axis=0, ignore_index=True)"
   ]
  },
  {
   "cell_type": "code",
   "execution_count": 35,
   "metadata": {},
   "outputs": [
    {
     "output_type": "execute_result",
     "data": {
      "text/plain": [
       "id                   0\n",
       "alias                0\n",
       "name                 0\n",
       "image_url         2227\n",
       "is_closed            0\n",
       "url                  0\n",
       "review_count         0\n",
       "categories           0\n",
       "rating               0\n",
       "coordinates          0\n",
       "transactions         0\n",
       "location             0\n",
       "phone             3913\n",
       "display_phone     3913\n",
       "distance             0\n",
       "price            14543\n",
       "longitude         3062\n",
       "latitude          3062\n",
       "zip_code          3124\n",
       "city                 0\n",
       "dtype: int64"
      ]
     },
     "metadata": {},
     "execution_count": 35
    }
   ],
   "source": [
    "frame.isna().sum()"
   ]
  },
  {
   "cell_type": "code",
   "execution_count": 36,
   "metadata": {},
   "outputs": [],
   "source": [
    "frame_cleaned = frame.dropna(subset=['zip_code','longitude','latitude'])"
   ]
  },
  {
   "cell_type": "code",
   "execution_count": 37,
   "metadata": {},
   "outputs": [
    {
     "output_type": "execute_result",
     "data": {
      "text/plain": [
       "id                   0\n",
       "alias                0\n",
       "name                 0\n",
       "image_url         2090\n",
       "is_closed            0\n",
       "url                  0\n",
       "review_count         0\n",
       "categories           0\n",
       "rating               0\n",
       "coordinates          0\n",
       "transactions         0\n",
       "location             0\n",
       "phone             3702\n",
       "display_phone     3702\n",
       "distance             0\n",
       "price            13665\n",
       "longitude            0\n",
       "latitude             0\n",
       "zip_code             0\n",
       "city                 0\n",
       "dtype: int64"
      ]
     },
     "metadata": {},
     "execution_count": 37
    }
   ],
   "source": [
    "frame_cleaned.isna().sum()"
   ]
  },
  {
   "cell_type": "code",
   "execution_count": 40,
   "metadata": {},
   "outputs": [
    {
     "output_type": "stream",
     "name": "stdout",
     "text": [
      "<class 'pandas.core.frame.DataFrame'>\nInt64Index: 57476 entries, 0 to 60602\nData columns (total 20 columns):\n #   Column         Non-Null Count  Dtype  \n---  ------         --------------  -----  \n 0   id             57476 non-null  object \n 1   alias          57476 non-null  object \n 2   name           57476 non-null  object \n 3   image_url      55386 non-null  object \n 4   is_closed      57476 non-null  bool   \n 5   url            57476 non-null  object \n 6   review_count   57476 non-null  int64  \n 7   categories     57476 non-null  object \n 8   rating         57476 non-null  float64\n 9   coordinates    57476 non-null  object \n 10  transactions   57476 non-null  object \n 11  location       57476 non-null  object \n 12  phone          53774 non-null  float64\n 13  display_phone  53774 non-null  object \n 14  distance       57476 non-null  float64\n 15  price          43811 non-null  object \n 16  longitude      57476 non-null  float64\n 17  latitude       57476 non-null  float64\n 18  zip_code       57476 non-null  object \n 19  city           57476 non-null  object \ndtypes: bool(1), float64(5), int64(1), object(13)\nmemory usage: 6.0+ MB\n"
     ]
    }
   ],
   "source": [
    "frame_cleaned.info()"
   ]
  },
  {
   "cell_type": "code",
   "execution_count": 43,
   "metadata": {},
   "outputs": [
    {
     "output_type": "execute_result",
     "data": {
      "text/plain": [
       "city\n",
       "Austin           2500\n",
       "Charlotte        1329\n",
       "Chicago          5954\n",
       "Columbus         2017\n",
       "Dallas           3026\n",
       "Denver           3030\n",
       "Fort Worth       1861\n",
       "Indianapolis     1466\n",
       "Jacksonville     1398\n",
       "Los Angeles      8319\n",
       "New York City    2554\n",
       "Philadelphia     4604\n",
       "Phoenix          2192\n",
       "San Antonio      2433\n",
       "San Diego        3601\n",
       "San Francisco    4459\n",
       "San Jose         3410\n",
       "seattle          3323\n",
       "dtype: int64"
      ]
     },
     "metadata": {},
     "execution_count": 43
    }
   ],
   "source": [
    "frame_cleaned.groupby(['city']).size()"
   ]
  },
  {
   "cell_type": "code",
   "execution_count": 45,
   "metadata": {},
   "outputs": [
    {
     "output_type": "execute_result",
     "data": {
      "text/plain": [
       "                       id                         alias  \\\n",
       "0  kMTboaAOcrPGOtmF5TMstw         nooris-grill-austin-3   \n",
       "1  re6LEj9qhgQIS1QLQbx2Ng  wasota-vegan-paradise-austin   \n",
       "\n",
       "                    name                                          image_url  \\\n",
       "0          Noori's Grill  https://s3-media1.fl.yelpcdn.com/bphoto/LS8f7P...   \n",
       "1  Wasota Vegan Paradise  https://s3-media1.fl.yelpcdn.com/bphoto/eCUh2R...   \n",
       "\n",
       "   is_closed                                                url  review_count  \\\n",
       "0      False  https://www.yelp.com/biz/nooris-grill-austin-3...            31   \n",
       "1      False  https://www.yelp.com/biz/wasota-vegan-paradise...            68   \n",
       "\n",
       "                                          categories  rating  \\\n",
       "0  [{'alias': 'mediterranean', 'title': 'Mediterr...     4.5   \n",
       "1  [{'alias': 'vegetarian', 'title': 'Vegetarian'...     4.5   \n",
       "\n",
       "                                        coordinates            transactions  \\\n",
       "0  {'latitude': 30.357011, 'longitude': -97.735214}            ['delivery']   \n",
       "1  {'latitude': 30.315263, 'longitude': -97.716622}  ['pickup', 'delivery']   \n",
       "\n",
       "                                            location         phone  \\\n",
       "0  {'address1': '2525 W Anderson Ln', 'address2':...  1.512346e+10   \n",
       "1  {'address1': '701 East 53rd St', 'address2': '...  1.512565e+10   \n",
       "\n",
       "    display_phone     distance price  longitude   latitude zip_code    city  \n",
       "0  (512) 346-3636  6157.307992   NaN -97.735214  30.357011    78757  Austin  \n",
       "1  (512) 565-3864  4100.352701     $ -97.716622  30.315263    78751  Austin  "
      ],
      "text/html": "<div>\n<style scoped>\n    .dataframe tbody tr th:only-of-type {\n        vertical-align: middle;\n    }\n\n    .dataframe tbody tr th {\n        vertical-align: top;\n    }\n\n    .dataframe thead th {\n        text-align: right;\n    }\n</style>\n<table border=\"1\" class=\"dataframe\">\n  <thead>\n    <tr style=\"text-align: right;\">\n      <th></th>\n      <th>id</th>\n      <th>alias</th>\n      <th>name</th>\n      <th>image_url</th>\n      <th>is_closed</th>\n      <th>url</th>\n      <th>review_count</th>\n      <th>categories</th>\n      <th>rating</th>\n      <th>coordinates</th>\n      <th>transactions</th>\n      <th>location</th>\n      <th>phone</th>\n      <th>display_phone</th>\n      <th>distance</th>\n      <th>price</th>\n      <th>longitude</th>\n      <th>latitude</th>\n      <th>zip_code</th>\n      <th>city</th>\n    </tr>\n  </thead>\n  <tbody>\n    <tr>\n      <th>0</th>\n      <td>kMTboaAOcrPGOtmF5TMstw</td>\n      <td>nooris-grill-austin-3</td>\n      <td>Noori's Grill</td>\n      <td>https://s3-media1.fl.yelpcdn.com/bphoto/LS8f7P...</td>\n      <td>False</td>\n      <td>https://www.yelp.com/biz/nooris-grill-austin-3...</td>\n      <td>31</td>\n      <td>[{'alias': 'mediterranean', 'title': 'Mediterr...</td>\n      <td>4.5</td>\n      <td>{'latitude': 30.357011, 'longitude': -97.735214}</td>\n      <td>['delivery']</td>\n      <td>{'address1': '2525 W Anderson Ln', 'address2':...</td>\n      <td>1.512346e+10</td>\n      <td>(512) 346-3636</td>\n      <td>6157.307992</td>\n      <td>NaN</td>\n      <td>-97.735214</td>\n      <td>30.357011</td>\n      <td>78757</td>\n      <td>Austin</td>\n    </tr>\n    <tr>\n      <th>1</th>\n      <td>re6LEj9qhgQIS1QLQbx2Ng</td>\n      <td>wasota-vegan-paradise-austin</td>\n      <td>Wasota Vegan Paradise</td>\n      <td>https://s3-media1.fl.yelpcdn.com/bphoto/eCUh2R...</td>\n      <td>False</td>\n      <td>https://www.yelp.com/biz/wasota-vegan-paradise...</td>\n      <td>68</td>\n      <td>[{'alias': 'vegetarian', 'title': 'Vegetarian'...</td>\n      <td>4.5</td>\n      <td>{'latitude': 30.315263, 'longitude': -97.716622}</td>\n      <td>['pickup', 'delivery']</td>\n      <td>{'address1': '701 East 53rd St', 'address2': '...</td>\n      <td>1.512565e+10</td>\n      <td>(512) 565-3864</td>\n      <td>4100.352701</td>\n      <td>$</td>\n      <td>-97.716622</td>\n      <td>30.315263</td>\n      <td>78751</td>\n      <td>Austin</td>\n    </tr>\n  </tbody>\n</table>\n</div>"
     },
     "metadata": {},
     "execution_count": 45
    }
   ],
   "source": [
    "frame_cleaned.head(2)"
   ]
  },
  {
   "cell_type": "code",
   "execution_count": 51,
   "metadata": {},
   "outputs": [],
   "source": [
    "from datetime import datetime"
   ]
  },
  {
   "cell_type": "code",
   "execution_count": 57,
   "metadata": {},
   "outputs": [],
   "source": [
    "today = datetime.today().strftime('%Y-%m-%d')\n",
    "frame_cleaned.to_csv(f'yelp_data_us_top20_cities_updated_{today}.csv',index=False)"
   ]
  },
  {
   "cell_type": "code",
   "execution_count": null,
   "metadata": {},
   "outputs": [],
   "source": []
  }
 ]
}