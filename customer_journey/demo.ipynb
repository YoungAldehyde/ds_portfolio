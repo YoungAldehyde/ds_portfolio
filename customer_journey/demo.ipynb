{
 "metadata": {
  "language_info": {
   "codemirror_mode": {
    "name": "ipython",
    "version": 3
   },
   "file_extension": ".py",
   "mimetype": "text/x-python",
   "name": "python",
   "nbconvert_exporter": "python",
   "pygments_lexer": "ipython3",
   "version": "3.7.3-final"
  },
  "orig_nbformat": 2,
  "kernelspec": {
   "name": "python3",
   "display_name": "Python 3"
  }
 },
 "nbformat": 4,
 "nbformat_minor": 2,
 "cells": [
  {
   "source": [
    "We will use the dataset from [this source](https://gist.github.com/nicolasesnis/eb3b35545e97926ab53e0617c5e4b639). For simplicity, this app only contains 4 types of user events: installs, opens, signup and purchase. We can think of these events as an engagement or purchase funnel. As a user must first install the app, and then open it (obviously, but you never know how many people download the app and never even open it a single time).\n",
    "\n",
    "\n",
    "\n"
   ],
   "cell_type": "markdown",
   "metadata": {}
  },
  {
   "cell_type": "code",
   "execution_count": 2,
   "metadata": {},
   "outputs": [],
   "source": [
    "import pandas as pd"
   ]
  },
  {
   "cell_type": "code",
   "execution_count": 4,
   "metadata": {},
   "outputs": [],
   "source": [
    "data = pd.read_csv('data/customer_events.csv')[['user_id', 'time_install', 'event_name', 'time_event']]"
   ]
  },
  {
   "cell_type": "code",
   "execution_count": 5,
   "metadata": {},
   "outputs": [
    {
     "output_type": "stream",
     "name": "stdout",
     "text": [
      "<class 'pandas.core.frame.DataFrame'>\nRangeIndex: 50356 entries, 0 to 50355\nData columns (total 4 columns):\nuser_id         50356 non-null object\ntime_install    50356 non-null float64\nevent_name      50356 non-null object\ntime_event      50356 non-null float64\ndtypes: float64(2), object(2)\nmemory usage: 1.2+ MB\n"
     ]
    }
   ],
   "source": [
    "data.info()"
   ]
  },
  {
   "cell_type": "code",
   "execution_count": 6,
   "metadata": {},
   "outputs": [
    {
     "output_type": "execute_result",
     "data": {
      "text/plain": [
       "                                        user_id  time_install event_name  \\\n",
       "50353  565a10711a9ca031979703855522205c0d36f73f  43892.947361   purchase   \n",
       "50354  565a10711a9ca031979703855522205c0d36f73f  43892.947361     reopen   \n",
       "50355  565a10711a9ca031979703855522205c0d36f73f  43892.947361     signup   \n",
       "\n",
       "         time_event  \n",
       "50353  43892.956377  \n",
       "50354  43894.467743  \n",
       "50355  43892.955486  "
      ],
      "text/html": "<div>\n<style scoped>\n    .dataframe tbody tr th:only-of-type {\n        vertical-align: middle;\n    }\n\n    .dataframe tbody tr th {\n        vertical-align: top;\n    }\n\n    .dataframe thead th {\n        text-align: right;\n    }\n</style>\n<table border=\"1\" class=\"dataframe\">\n  <thead>\n    <tr style=\"text-align: right;\">\n      <th></th>\n      <th>user_id</th>\n      <th>time_install</th>\n      <th>event_name</th>\n      <th>time_event</th>\n    </tr>\n  </thead>\n  <tbody>\n    <tr>\n      <th>50353</th>\n      <td>565a10711a9ca031979703855522205c0d36f73f</td>\n      <td>43892.947361</td>\n      <td>purchase</td>\n      <td>43892.956377</td>\n    </tr>\n    <tr>\n      <th>50354</th>\n      <td>565a10711a9ca031979703855522205c0d36f73f</td>\n      <td>43892.947361</td>\n      <td>reopen</td>\n      <td>43894.467743</td>\n    </tr>\n    <tr>\n      <th>50355</th>\n      <td>565a10711a9ca031979703855522205c0d36f73f</td>\n      <td>43892.947361</td>\n      <td>signup</td>\n      <td>43892.955486</td>\n    </tr>\n  </tbody>\n</table>\n</div>"
     },
     "metadata": {},
     "execution_count": 6
    }
   ],
   "source": [
    "data.tail(3)"
   ]
  },
  {
   "cell_type": "code",
   "execution_count": null,
   "metadata": {},
   "outputs": [],
   "source": []
  }
 ]
}