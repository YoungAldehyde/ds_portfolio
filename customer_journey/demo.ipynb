{
 "metadata": {
  "language_info": {
   "codemirror_mode": {
    "name": "ipython",
    "version": 3
   },
   "file_extension": ".py",
   "mimetype": "text/x-python",
   "name": "python",
   "nbconvert_exporter": "python",
   "pygments_lexer": "ipython3",
   "version": "3.7.3-final"
  },
  "orig_nbformat": 2,
  "kernelspec": {
   "name": "python3",
   "display_name": "Python 3"
  }
 },
 "nbformat": 4,
 "nbformat_minor": 2,
 "cells": [
  {
   "cell_type": "code",
   "execution_count": 1,
   "metadata": {},
   "outputs": [],
   "source": [
    "import pandas as pd"
   ]
  },
  {
   "cell_type": "code",
   "execution_count": 2,
   "metadata": {},
   "outputs": [],
   "source": [
    "data = pd.read_csv('data/customer_events.csv')[['user_id', 'time_install', 'event_name', 'time_event']]"
   ]
  },
  {
   "cell_type": "code",
   "execution_count": 3,
   "metadata": {},
   "outputs": [
    {
     "output_type": "stream",
     "name": "stdout",
     "text": [
      "<class 'pandas.core.frame.DataFrame'>\nRangeIndex: 50356 entries, 0 to 50355\nData columns (total 4 columns):\nuser_id         50356 non-null object\ntime_install    50356 non-null float64\nevent_name      50356 non-null object\ntime_event      50356 non-null float64\ndtypes: float64(2), object(2)\nmemory usage: 1.2+ MB\n"
     ]
    }
   ],
   "source": [
    "data.info()"
   ]
  },
  {
   "cell_type": "code",
   "execution_count": 4,
   "metadata": {},
   "outputs": [
    {
     "output_type": "execute_result",
     "data": {
      "text/plain": [
       "                                        user_id  time_install event_name  \\\n",
       "50353  565a10711a9ca031979703855522205c0d36f73f  43892.947361   purchase   \n",
       "50354  565a10711a9ca031979703855522205c0d36f73f  43892.947361     reopen   \n",
       "50355  565a10711a9ca031979703855522205c0d36f73f  43892.947361     signup   \n",
       "\n",
       "         time_event  \n",
       "50353  43892.956377  \n",
       "50354  43894.467743  \n",
       "50355  43892.955486  "
      ],
      "text/html": "<div>\n<style scoped>\n    .dataframe tbody tr th:only-of-type {\n        vertical-align: middle;\n    }\n\n    .dataframe tbody tr th {\n        vertical-align: top;\n    }\n\n    .dataframe thead th {\n        text-align: right;\n    }\n</style>\n<table border=\"1\" class=\"dataframe\">\n  <thead>\n    <tr style=\"text-align: right;\">\n      <th></th>\n      <th>user_id</th>\n      <th>time_install</th>\n      <th>event_name</th>\n      <th>time_event</th>\n    </tr>\n  </thead>\n  <tbody>\n    <tr>\n      <th>50353</th>\n      <td>565a10711a9ca031979703855522205c0d36f73f</td>\n      <td>43892.947361</td>\n      <td>purchase</td>\n      <td>43892.956377</td>\n    </tr>\n    <tr>\n      <th>50354</th>\n      <td>565a10711a9ca031979703855522205c0d36f73f</td>\n      <td>43892.947361</td>\n      <td>reopen</td>\n      <td>43894.467743</td>\n    </tr>\n    <tr>\n      <th>50355</th>\n      <td>565a10711a9ca031979703855522205c0d36f73f</td>\n      <td>43892.947361</td>\n      <td>signup</td>\n      <td>43892.955486</td>\n    </tr>\n  </tbody>\n</table>\n</div>"
     },
     "metadata": {},
     "execution_count": 4
    }
   ],
   "source": [
    "data.tail(3)"
   ]
  },
  {
   "cell_type": "code",
   "execution_count": 5,
   "metadata": {},
   "outputs": [
    {
     "output_type": "execute_result",
     "data": {
      "text/plain": [
       "array(['install'], dtype=object)"
      ]
     },
     "metadata": {},
     "execution_count": 5
    }
   ],
   "source": [
    "# Start with making sure that time_event and time_insrall are Pandas Datetime types:\n",
    "data['time_event'] = pd.to_datetime(data['time_event'], unit='s') # Unit = \"s\" is required here since the raw data format is unique timestamp. Remove this param if your data is already a datetime like data.\n",
    "data['time_install'] = pd.to_datetime(data['time_install'], unit='s')\n",
    "\n",
    "# Make sure that there's no event occurring before time_install\n",
    "data = data[data.time_event >= data.time_install]\n",
    "\n",
    "\n",
    "# The initial data Pandas DataFrame must have these 4 columns:\n",
    "# user_id | time_install | event_name | time_event\n",
    "# - user_id (string): the unique identifier of a user\n",
    "# - time_install (Pandas datetime): the time when the user installed the app (there should be 1 time_install per user_id)\n",
    "# - event_name (string): the name of a specific in-app event (there can be many event_name per user_id)\n",
    "# - time_event (Pandas datetime): the time of each event (there should be 1 time_event per user_id)\n",
    "\n",
    "# Edit this dataframe so that installs are passed as events\n",
    "\n",
    "# Create a new DF from the data DF containing only install data\n",
    "installs = data[['user_id', 'time_install']].sort_values('time_install').drop_duplicates('user_id')\n",
    "\n",
    "# Create an install column containing dummy \"install\" events\n",
    "installs['event_name'] = 'install'\n",
    "\n",
    "# Create an event_type column to keep the information of install vs other events\n",
    "installs['event_type'] = 'install'\n",
    "\n",
    "# Rename time_install to time_event\n",
    "\n",
    "installs.rename(columns={'time_install': 'time_event'}, inplace=True)\n",
    "\n",
    "# In the data DF, keep only events data and create the event_type column\n",
    "data = data[['user_id', 'event_name','time_event']].drop_duplicates()\n",
    "data['event_type'] = 'in_app_action'\n",
    "\n",
    "# Concatenate the two DataFrames\n",
    "data = pd.concat([data, installs[data.columns]])\n",
    "\n",
    "# Based on the time of events, we can compute the rank of each action at the user_id level:\n",
    "\n",
    "# a) Sort ascendingly per user_id and time_event\n",
    "# sort by event_type to make sure installs come first\n",
    "data.sort_values(['user_id', 'event_type', 'time_event'], ascending=[True, False, True], inplace=True)\n",
    "\n",
    "# b) Group by user_id\n",
    "grouped = data.groupby('user_id')\n",
    "\n",
    "# c) Define a ranking function based on time_event (similar to window function in SQL), using the method = 'first' param to ensure no events have the same rank\n",
    "\n",
    "def rank(x): return x['time_event'].rank(method='first').astype(int)\n",
    "\n",
    "# d) Apply the ranking function to the data DF into a new \"rank_event\" column\n",
    "data[\"rank_event\"] = grouped.apply(rank).reset_index(0, drop=True)\n",
    "\n",
    "# Add, each row, the information about the next_event\n",
    "\n",
    "# a) Regroup by user_id\n",
    "grouped = data.groupby('user_id')\n",
    "\n",
    "# b) The shift function allows to access the next row's data. Here, we'll want the event name\n",
    "\n",
    "def get_next_event(x): return x['event_name'].shift(-1)\n",
    "\n",
    "# c) Apply the function into a new \"next_event\" column\n",
    "data[\"next_event\"] = grouped.apply(lambda x: get_next_event(x)).reset_index(0, drop=True)\n",
    "\n",
    "# Likewise, we can compute time from each event to its next event:\n",
    "\n",
    "# a) Regroup by user_id \n",
    "grouped = data.groupby('user_id')\n",
    "\n",
    "# b) We make use one more time of the shift function:\n",
    "\n",
    "def get_time_diff(\n",
    "    x): return x['time_event'].shift(-1) - x['time_event']\n",
    "\n",
    "# c) Apply the function to the data DF into a new \"time_to_next\" column\n",
    "data[\"time_to_next\"] = grouped.apply(\n",
    "    lambda x: get_time_diff(x)).reset_index(0, drop=True)\n",
    "\n",
    "# Here we'll plot the journey up to the 10th action. This can be achieved by filtering the dataframe based on the rank_event column that we computed:\n",
    "data = data[data.rank_event < 10]\n",
    "\n",
    "# Check that you have only installs at rank 1:\n",
    "data[data['rank_event'] == 1].event_name.unique()"
   ]
  },
  {
   "cell_type": "code",
   "execution_count": 6,
   "metadata": {},
   "outputs": [],
   "source": [
    "import seaborn as sns\n",
    "\n",
    "# Working on the nodes_dict\n",
    "\n",
    "all_events = list(data.event_name.unique())\n",
    "\n",
    "# Create a set of colors that you'd like to use in your plot.\n",
    "palette = ['50BE97', 'E4655C', 'FCC865',\n",
    "           'BFD6DE', '3E5066', '353A3E', 'E6E6E6']\n",
    "#  Here, I passed the colors as HEX, but we need to pass it as RGB. This loop will convert from HEX to RGB:\n",
    "for i, col in enumerate(palette):\n",
    "    palette[i] = tuple(int(col[i:i+2], 16) for i in (0, 2, 4))\n",
    "\n",
    "# Append a Seaborn complementary palette to your palette in case you did not provide enough colors to style every event\n",
    "complementary_palette = sns.color_palette(\n",
    "    \"deep\", len(all_events) - len(palette))\n",
    "if len(complementary_palette) > 0:\n",
    "    palette.extend(complementary_palette)\n",
    "\n",
    "output = dict()\n",
    "output.update({'nodes_dict': dict()})\n",
    "\n",
    "i = 0\n",
    "for rank_event in data.rank_event.unique(): # For each rank of event...\n",
    "    # Create a new key equal to the rank...\n",
    "    output['nodes_dict'].update(\n",
    "        {rank_event: dict()}\n",
    "    )\n",
    "    \n",
    "    # Look at all the events that were done at this step of the funnel...\n",
    "    all_events_at_this_rank = data[data.rank_event ==\n",
    "                                   rank_event].event_name.unique()\n",
    "    \n",
    "    # Read the colors for these events and store them in a list...\n",
    "    rank_palette = []\n",
    "    for event in all_events_at_this_rank:\n",
    "        rank_palette.append(palette[list(all_events).index(event)])\n",
    "    \n",
    "    # Keep trace of the events' names, colors and indices.\n",
    "    output['nodes_dict'][rank_event].update(\n",
    "        {\n",
    "            'sources': list(all_events_at_this_rank),\n",
    "            'color': rank_palette,\n",
    "            'sources_index': list(range(i, i+len(all_events_at_this_rank)))\n",
    "        }\n",
    "    )\n",
    "    # Finally, increment by the length of this rank's available events to make sure next indices will not be chosen from existing ones\n",
    "    i += len(output['nodes_dict'][rank_event]['sources_index'])"
   ]
  },
  {
   "cell_type": "code",
   "execution_count": 7,
   "metadata": {},
   "outputs": [
    {
     "output_type": "execute_result",
     "data": {
      "text/plain": [
       "Empty DataFrame\n",
       "Columns: []\n",
       "Index: []"
      ],
      "text/html": "<div>\n<style scoped>\n    .dataframe tbody tr th:only-of-type {\n        vertical-align: middle;\n    }\n\n    .dataframe tbody tr th {\n        vertical-align: top;\n    }\n\n    .dataframe thead th {\n        text-align: right;\n    }\n</style>\n<table border=\"1\" class=\"dataframe\">\n  <thead>\n    <tr style=\"text-align: right;\">\n      <th></th>\n    </tr>\n  </thead>\n  <tbody>\n  </tbody>\n</table>\n</div>"
     },
     "metadata": {},
     "execution_count": 7
    }
   ],
   "source": [
    "# Working on the links_dict\n",
    "\n",
    "output.update({'links_dict': dict()})\n",
    "\n",
    "# Group the DataFrame by user_id and rank_event\n",
    "grouped = data.groupby(['user_id', 'rank_event'])\n",
    "\n",
    "# Define a function to read the souces, targets, values and time from event to next_event:\n",
    "def update_source_target(user):\n",
    "    try:\n",
    "        # user.name[0] is the user's user_id; user.name[1] is the rank of each action\n",
    "        # 1st we retrieve the source and target's indices from nodes_dict\n",
    "        source_index = output['nodes_dict'][user.name[1]]['sources_index'][output['nodes_dict']\n",
    "                                                                           [user.name[1]]['sources'].index(user['event_name'].values[0])]\n",
    "        target_index = output['nodes_dict'][user.name[1] + 1]['sources_index'][output['nodes_dict']\n",
    "                                                                               [user.name[1] + 1]['sources'].index(user['next_event'].values[0])]\n",
    "\n",
    "         # If this source is already in links_dict...\n",
    "        if source_index in output['links_dict']:\n",
    "            # ...and if this target is already associated to this source...\n",
    "            if target_index in output['links_dict'][source_index]:\n",
    "                # ...then we increment the count of users with this source/target pair by 1, and keep track of the time from source to target\n",
    "                output['links_dict'][source_index][target_index]['unique_users'] += 1\n",
    "                output['links_dict'][source_index][target_index]['avg_time_to_next'] += user['time_to_next'].values[0]\n",
    "            # ...but if the target is not already associated to this source...\n",
    "            else:\n",
    "                # ...we create a new key for this target, for this source, and initiate it with 1 user and the time from source to target\n",
    "                output['links_dict'][source_index].update({target_index:\n",
    "                                                           dict(\n",
    "                                                               {'unique_users': 1,\n",
    "                                                                'avg_time_to_next': user['time_to_next'].values[0]}\n",
    "                                                           )\n",
    "                                                           })\n",
    "        # ...but if this source isn't already available in the links_dict, we create its key and the key of this source's target, and we initiate it with 1 user and the time from source to target\n",
    "        else:\n",
    "            output['links_dict'].update({source_index: dict({target_index: dict(\n",
    "                {'unique_users': 1, 'avg_time_to_next': user['time_to_next'].values[0]})})})\n",
    "    except Exception as e:\n",
    "        pass\n",
    "\n",
    "# Apply the function to your grouped Pandas object:\n",
    "grouped.apply(lambda user: update_source_target(user)) "
   ]
  },
  {
   "cell_type": "code",
   "execution_count": 8,
   "metadata": {},
   "outputs": [],
   "source": [
    "targets = []\n",
    "sources = []\n",
    "values = []\n",
    "time_to_next = []\n",
    "\n",
    "for source_key, source_value in output['links_dict'].items():\n",
    "    for target_key, target_value in output['links_dict'][source_key].items():\n",
    "        sources.append(source_key)\n",
    "        targets.append(target_key)\n",
    "        values.append(target_value['unique_users'])\n",
    "        time_to_next.append(str(pd.to_timedelta(\n",
    "            target_value['avg_time_to_next'] / target_value['unique_users'])).split('.')[0]) # Split to remove the milliseconds information\n",
    "\n",
    "labels = []\n",
    "colors = []\n",
    "for key, value in output['nodes_dict'].items():\n",
    "    labels = labels + list(output['nodes_dict'][key]['sources'])\n",
    "    colors = colors + list(output['nodes_dict'][key]['color'])\n",
    "\n",
    "for idx, color in enumerate(colors):\n",
    "    colors[idx] = \"rgb\" + str(color) + \"\""
   ]
  },
  {
   "cell_type": "code",
   "execution_count": 20,
   "metadata": {},
   "outputs": [
    {
     "output_type": "display_data",
     "data": {
      "application/vnd.plotly.v1+json": {
       "config": {
        "plotlyServerURL": "https://plot.ly"
       },
       "data": [
        {
         "link": {
          "hovertemplate": "%{value} unique users went from %{source.label} to %{target.label}.<br /><br />It took them %{label} in average.<extra></extra>",
          "label": [
           "0 days 00:00:00",
           "0 days 00:00:00",
           "0 days 00:00:01",
           "0 days 00:00:01",
           "0 days 00:00:00",
           "0 days 00:00:00",
           "0 days 00:00:00",
           "0 days 00:00:01",
           "0 days 00:00:00",
           "0 days 00:00:00",
           "0 days 00:00:01",
           "0 days 00:00:00",
           "0 days 00:00:00",
           "0 days 00:00:01",
           "0 days 00:00:00",
           "0 days 00:00:00",
           "0 days 00:00:01",
           "0 days 00:00:00",
           "0 days 00:00:01",
           "0 days 00:00:00",
           "0 days 00:00:00",
           "0 days 00:00:01",
           "0 days 00:00:00",
           "0 days 00:00:01",
           "0 days 00:00:00",
           "0 days 00:00:00",
           "0 days 00:00:01",
           "0 days 00:00:00",
           "0 days 00:00:00",
           "0 days 00:00:01",
           "0 days 00:00:00",
           "0 days 00:00:00",
           "0 days 00:00:01",
           "0 days 00:00:01",
           "0 days 00:00:00",
           "0 days 00:00:00",
           "0 days 00:00:01",
           "0 days 00:00:01",
           "0 days 00:00:00",
           "0 days 00:00:00",
           "0 days 00:00:01",
           "0 days 00:00:00",
           "0 days 00:00:00",
           "0 days 00:00:01",
           "0 days 00:00:00",
           "0 days 00:00:01",
           "0 days 00:00:00",
           "0 days 00:00:00",
           "0 days 00:00:00",
           "0 days 00:00:01"
          ],
          "source": [
           0,
           0,
           0,
           1,
           1,
           1,
           2,
           2,
           2,
           5,
           5,
           5,
           7,
           7,
           7,
           10,
           10,
           13,
           13,
           13,
           16,
           16,
           3,
           3,
           3,
           4,
           4,
           4,
           8,
           8,
           8,
           6,
           6,
           19,
           19,
           14,
           14,
           11,
           11,
           11,
           20,
           20,
           17,
           17,
           12,
           9,
           9,
           9,
           15,
           18
          ],
          "target": [
           1,
           2,
           3,
           4,
           5,
           6,
           5,
           4,
           6,
           7,
           8,
           9,
           10,
           11,
           12,
           13,
           14,
           16,
           17,
           18,
           19,
           20,
           5,
           4,
           6,
           7,
           8,
           9,
           10,
           11,
           12,
           7,
           8,
           21,
           22,
           16,
           17,
           14,
           13,
           15,
           21,
           22,
           19,
           20,
           13,
           11,
           10,
           12,
           16,
           20
          ],
          "value": [
           15034,
           3824,
           6924,
           3162,
           4878,
           81,
           1517,
           790,
           4,
           2813,
           1315,
           20,
           1435,
           668,
           10,
           762,
           336,
           437,
           169,
           3,
           250,
           89,
           438,
           1126,
           158,
           510,
           915,
           13,
           333,
           384,
           1,
           71,
           42,
           65,
           142,
           85,
           82,
           166,
           175,
           2,
           20,
           26,
           49,
           43,
           7,
           6,
           12,
           1,
           1,
           1
          ]
         },
         "node": {
          "color": [
           "rgb(80, 190, 151)",
           "rgb(228, 101, 92)",
           "rgb(191, 214, 222)",
           "rgb(252, 200, 101)",
           "rgb(252, 200, 101)",
           "rgb(191, 214, 222)",
           "rgb(228, 101, 92)",
           "rgb(191, 214, 222)",
           "rgb(252, 200, 101)",
           "rgb(228, 101, 92)",
           "rgb(191, 214, 222)",
           "rgb(252, 200, 101)",
           "rgb(228, 101, 92)",
           "rgb(191, 214, 222)",
           "rgb(252, 200, 101)",
           "rgb(228, 101, 92)",
           "rgb(191, 214, 222)",
           "rgb(252, 200, 101)",
           "rgb(228, 101, 92)",
           "rgb(191, 214, 222)",
           "rgb(252, 200, 101)",
           "rgb(252, 200, 101)",
           "rgb(191, 214, 222)"
          ],
          "label": [
           "install",
           "signup",
           "purchase",
           "reopen",
           "reopen",
           "purchase",
           "signup",
           "purchase",
           "reopen",
           "signup",
           "purchase",
           "reopen",
           "signup",
           "purchase",
           "reopen",
           "signup",
           "purchase",
           "reopen",
           "signup",
           "purchase",
           "reopen",
           "reopen",
           "purchase"
          ],
          "line": {
           "color": "black",
           "width": 0.5
          },
          "thickness": 10
         },
         "type": "sankey"
        }
       ],
       "layout": {
        "autosize": true,
        "font": {
         "size": 15
        },
        "height": 600,
        "plot_bgcolor": "white",
        "template": {
         "data": {
          "bar": [
           {
            "error_x": {
             "color": "#2a3f5f"
            },
            "error_y": {
             "color": "#2a3f5f"
            },
            "marker": {
             "line": {
              "color": "#E5ECF6",
              "width": 0.5
             }
            },
            "type": "bar"
           }
          ],
          "barpolar": [
           {
            "marker": {
             "line": {
              "color": "#E5ECF6",
              "width": 0.5
             }
            },
            "type": "barpolar"
           }
          ],
          "carpet": [
           {
            "aaxis": {
             "endlinecolor": "#2a3f5f",
             "gridcolor": "white",
             "linecolor": "white",
             "minorgridcolor": "white",
             "startlinecolor": "#2a3f5f"
            },
            "baxis": {
             "endlinecolor": "#2a3f5f",
             "gridcolor": "white",
             "linecolor": "white",
             "minorgridcolor": "white",
             "startlinecolor": "#2a3f5f"
            },
            "type": "carpet"
           }
          ],
          "choropleth": [
           {
            "colorbar": {
             "outlinewidth": 0,
             "ticks": ""
            },
            "type": "choropleth"
           }
          ],
          "contour": [
           {
            "colorbar": {
             "outlinewidth": 0,
             "ticks": ""
            },
            "colorscale": [
             [
              0,
              "#0d0887"
             ],
             [
              0.1111111111111111,
              "#46039f"
             ],
             [
              0.2222222222222222,
              "#7201a8"
             ],
             [
              0.3333333333333333,
              "#9c179e"
             ],
             [
              0.4444444444444444,
              "#bd3786"
             ],
             [
              0.5555555555555556,
              "#d8576b"
             ],
             [
              0.6666666666666666,
              "#ed7953"
             ],
             [
              0.7777777777777778,
              "#fb9f3a"
             ],
             [
              0.8888888888888888,
              "#fdca26"
             ],
             [
              1,
              "#f0f921"
             ]
            ],
            "type": "contour"
           }
          ],
          "contourcarpet": [
           {
            "colorbar": {
             "outlinewidth": 0,
             "ticks": ""
            },
            "type": "contourcarpet"
           }
          ],
          "heatmap": [
           {
            "colorbar": {
             "outlinewidth": 0,
             "ticks": ""
            },
            "colorscale": [
             [
              0,
              "#0d0887"
             ],
             [
              0.1111111111111111,
              "#46039f"
             ],
             [
              0.2222222222222222,
              "#7201a8"
             ],
             [
              0.3333333333333333,
              "#9c179e"
             ],
             [
              0.4444444444444444,
              "#bd3786"
             ],
             [
              0.5555555555555556,
              "#d8576b"
             ],
             [
              0.6666666666666666,
              "#ed7953"
             ],
             [
              0.7777777777777778,
              "#fb9f3a"
             ],
             [
              0.8888888888888888,
              "#fdca26"
             ],
             [
              1,
              "#f0f921"
             ]
            ],
            "type": "heatmap"
           }
          ],
          "heatmapgl": [
           {
            "colorbar": {
             "outlinewidth": 0,
             "ticks": ""
            },
            "colorscale": [
             [
              0,
              "#0d0887"
             ],
             [
              0.1111111111111111,
              "#46039f"
             ],
             [
              0.2222222222222222,
              "#7201a8"
             ],
             [
              0.3333333333333333,
              "#9c179e"
             ],
             [
              0.4444444444444444,
              "#bd3786"
             ],
             [
              0.5555555555555556,
              "#d8576b"
             ],
             [
              0.6666666666666666,
              "#ed7953"
             ],
             [
              0.7777777777777778,
              "#fb9f3a"
             ],
             [
              0.8888888888888888,
              "#fdca26"
             ],
             [
              1,
              "#f0f921"
             ]
            ],
            "type": "heatmapgl"
           }
          ],
          "histogram": [
           {
            "marker": {
             "colorbar": {
              "outlinewidth": 0,
              "ticks": ""
             }
            },
            "type": "histogram"
           }
          ],
          "histogram2d": [
           {
            "colorbar": {
             "outlinewidth": 0,
             "ticks": ""
            },
            "colorscale": [
             [
              0,
              "#0d0887"
             ],
             [
              0.1111111111111111,
              "#46039f"
             ],
             [
              0.2222222222222222,
              "#7201a8"
             ],
             [
              0.3333333333333333,
              "#9c179e"
             ],
             [
              0.4444444444444444,
              "#bd3786"
             ],
             [
              0.5555555555555556,
              "#d8576b"
             ],
             [
              0.6666666666666666,
              "#ed7953"
             ],
             [
              0.7777777777777778,
              "#fb9f3a"
             ],
             [
              0.8888888888888888,
              "#fdca26"
             ],
             [
              1,
              "#f0f921"
             ]
            ],
            "type": "histogram2d"
           }
          ],
          "histogram2dcontour": [
           {
            "colorbar": {
             "outlinewidth": 0,
             "ticks": ""
            },
            "colorscale": [
             [
              0,
              "#0d0887"
             ],
             [
              0.1111111111111111,
              "#46039f"
             ],
             [
              0.2222222222222222,
              "#7201a8"
             ],
             [
              0.3333333333333333,
              "#9c179e"
             ],
             [
              0.4444444444444444,
              "#bd3786"
             ],
             [
              0.5555555555555556,
              "#d8576b"
             ],
             [
              0.6666666666666666,
              "#ed7953"
             ],
             [
              0.7777777777777778,
              "#fb9f3a"
             ],
             [
              0.8888888888888888,
              "#fdca26"
             ],
             [
              1,
              "#f0f921"
             ]
            ],
            "type": "histogram2dcontour"
           }
          ],
          "mesh3d": [
           {
            "colorbar": {
             "outlinewidth": 0,
             "ticks": ""
            },
            "type": "mesh3d"
           }
          ],
          "parcoords": [
           {
            "line": {
             "colorbar": {
              "outlinewidth": 0,
              "ticks": ""
             }
            },
            "type": "parcoords"
           }
          ],
          "pie": [
           {
            "automargin": true,
            "type": "pie"
           }
          ],
          "scatter": [
           {
            "marker": {
             "colorbar": {
              "outlinewidth": 0,
              "ticks": ""
             }
            },
            "type": "scatter"
           }
          ],
          "scatter3d": [
           {
            "line": {
             "colorbar": {
              "outlinewidth": 0,
              "ticks": ""
             }
            },
            "marker": {
             "colorbar": {
              "outlinewidth": 0,
              "ticks": ""
             }
            },
            "type": "scatter3d"
           }
          ],
          "scattercarpet": [
           {
            "marker": {
             "colorbar": {
              "outlinewidth": 0,
              "ticks": ""
             }
            },
            "type": "scattercarpet"
           }
          ],
          "scattergeo": [
           {
            "marker": {
             "colorbar": {
              "outlinewidth": 0,
              "ticks": ""
             }
            },
            "type": "scattergeo"
           }
          ],
          "scattergl": [
           {
            "marker": {
             "colorbar": {
              "outlinewidth": 0,
              "ticks": ""
             }
            },
            "type": "scattergl"
           }
          ],
          "scattermapbox": [
           {
            "marker": {
             "colorbar": {
              "outlinewidth": 0,
              "ticks": ""
             }
            },
            "type": "scattermapbox"
           }
          ],
          "scatterpolar": [
           {
            "marker": {
             "colorbar": {
              "outlinewidth": 0,
              "ticks": ""
             }
            },
            "type": "scatterpolar"
           }
          ],
          "scatterpolargl": [
           {
            "marker": {
             "colorbar": {
              "outlinewidth": 0,
              "ticks": ""
             }
            },
            "type": "scatterpolargl"
           }
          ],
          "scatterternary": [
           {
            "marker": {
             "colorbar": {
              "outlinewidth": 0,
              "ticks": ""
             }
            },
            "type": "scatterternary"
           }
          ],
          "surface": [
           {
            "colorbar": {
             "outlinewidth": 0,
             "ticks": ""
            },
            "colorscale": [
             [
              0,
              "#0d0887"
             ],
             [
              0.1111111111111111,
              "#46039f"
             ],
             [
              0.2222222222222222,
              "#7201a8"
             ],
             [
              0.3333333333333333,
              "#9c179e"
             ],
             [
              0.4444444444444444,
              "#bd3786"
             ],
             [
              0.5555555555555556,
              "#d8576b"
             ],
             [
              0.6666666666666666,
              "#ed7953"
             ],
             [
              0.7777777777777778,
              "#fb9f3a"
             ],
             [
              0.8888888888888888,
              "#fdca26"
             ],
             [
              1,
              "#f0f921"
             ]
            ],
            "type": "surface"
           }
          ],
          "table": [
           {
            "cells": {
             "fill": {
              "color": "#EBF0F8"
             },
             "line": {
              "color": "white"
             }
            },
            "header": {
             "fill": {
              "color": "#C8D4E3"
             },
             "line": {
              "color": "white"
             }
            },
            "type": "table"
           }
          ]
         },
         "layout": {
          "annotationdefaults": {
           "arrowcolor": "#2a3f5f",
           "arrowhead": 0,
           "arrowwidth": 1
          },
          "coloraxis": {
           "colorbar": {
            "outlinewidth": 0,
            "ticks": ""
           }
          },
          "colorscale": {
           "diverging": [
            [
             0,
             "#8e0152"
            ],
            [
             0.1,
             "#c51b7d"
            ],
            [
             0.2,
             "#de77ae"
            ],
            [
             0.3,
             "#f1b6da"
            ],
            [
             0.4,
             "#fde0ef"
            ],
            [
             0.5,
             "#f7f7f7"
            ],
            [
             0.6,
             "#e6f5d0"
            ],
            [
             0.7,
             "#b8e186"
            ],
            [
             0.8,
             "#7fbc41"
            ],
            [
             0.9,
             "#4d9221"
            ],
            [
             1,
             "#276419"
            ]
           ],
           "sequential": [
            [
             0,
             "#0d0887"
            ],
            [
             0.1111111111111111,
             "#46039f"
            ],
            [
             0.2222222222222222,
             "#7201a8"
            ],
            [
             0.3333333333333333,
             "#9c179e"
            ],
            [
             0.4444444444444444,
             "#bd3786"
            ],
            [
             0.5555555555555556,
             "#d8576b"
            ],
            [
             0.6666666666666666,
             "#ed7953"
            ],
            [
             0.7777777777777778,
             "#fb9f3a"
            ],
            [
             0.8888888888888888,
             "#fdca26"
            ],
            [
             1,
             "#f0f921"
            ]
           ],
           "sequentialminus": [
            [
             0,
             "#0d0887"
            ],
            [
             0.1111111111111111,
             "#46039f"
            ],
            [
             0.2222222222222222,
             "#7201a8"
            ],
            [
             0.3333333333333333,
             "#9c179e"
            ],
            [
             0.4444444444444444,
             "#bd3786"
            ],
            [
             0.5555555555555556,
             "#d8576b"
            ],
            [
             0.6666666666666666,
             "#ed7953"
            ],
            [
             0.7777777777777778,
             "#fb9f3a"
            ],
            [
             0.8888888888888888,
             "#fdca26"
            ],
            [
             1,
             "#f0f921"
            ]
           ]
          },
          "colorway": [
           "#636efa",
           "#EF553B",
           "#00cc96",
           "#ab63fa",
           "#FFA15A",
           "#19d3f3",
           "#FF6692",
           "#B6E880",
           "#FF97FF",
           "#FECB52"
          ],
          "font": {
           "color": "#2a3f5f"
          },
          "geo": {
           "bgcolor": "white",
           "lakecolor": "white",
           "landcolor": "#E5ECF6",
           "showlakes": true,
           "showland": true,
           "subunitcolor": "white"
          },
          "hoverlabel": {
           "align": "left"
          },
          "hovermode": "closest",
          "mapbox": {
           "style": "light"
          },
          "paper_bgcolor": "white",
          "plot_bgcolor": "#E5ECF6",
          "polar": {
           "angularaxis": {
            "gridcolor": "white",
            "linecolor": "white",
            "ticks": ""
           },
           "bgcolor": "#E5ECF6",
           "radialaxis": {
            "gridcolor": "white",
            "linecolor": "white",
            "ticks": ""
           }
          },
          "scene": {
           "xaxis": {
            "backgroundcolor": "#E5ECF6",
            "gridcolor": "white",
            "gridwidth": 2,
            "linecolor": "white",
            "showbackground": true,
            "ticks": "",
            "zerolinecolor": "white"
           },
           "yaxis": {
            "backgroundcolor": "#E5ECF6",
            "gridcolor": "white",
            "gridwidth": 2,
            "linecolor": "white",
            "showbackground": true,
            "ticks": "",
            "zerolinecolor": "white"
           },
           "zaxis": {
            "backgroundcolor": "#E5ECF6",
            "gridcolor": "white",
            "gridwidth": 2,
            "linecolor": "white",
            "showbackground": true,
            "ticks": "",
            "zerolinecolor": "white"
           }
          },
          "shapedefaults": {
           "line": {
            "color": "#2a3f5f"
           }
          },
          "ternary": {
           "aaxis": {
            "gridcolor": "white",
            "linecolor": "white",
            "ticks": ""
           },
           "baxis": {
            "gridcolor": "white",
            "linecolor": "white",
            "ticks": ""
           },
           "bgcolor": "#E5ECF6",
           "caxis": {
            "gridcolor": "white",
            "linecolor": "white",
            "ticks": ""
           }
          },
          "title": {
           "x": 0.05
          },
          "xaxis": {
           "automargin": true,
           "gridcolor": "white",
           "linecolor": "white",
           "ticks": "",
           "title": {
            "standoff": 15
           },
           "zerolinecolor": "white",
           "zerolinewidth": 2
          },
          "yaxis": {
           "automargin": true,
           "gridcolor": "white",
           "linecolor": "white",
           "ticks": "",
           "title": {
            "standoff": 15
           },
           "zerolinecolor": "white",
           "zerolinewidth": 2
          }
         }
        },
        "title": {
         "text": "Sankey Showcase"
        },
        "width": 900
       }
      }
     },
     "metadata": {}
    }
   ],
   "source": [
    "import plotly.graph_objects as go\n",
    "import chart_studio.plotly as py\n",
    "import plotly\n",
    "\n",
    "fig = go.Figure(data=[go.Sankey(\n",
    "    node=dict(\n",
    "        thickness=10,  # default is 20\n",
    "        line=dict(color=\"black\", width=0.5),\n",
    "        label=labels,\n",
    "        color=colors\n",
    "    ),\n",
    "    link=dict(\n",
    "        source=sources,\n",
    "        target=targets,\n",
    "        value=values,\n",
    "        label=time_to_next,\n",
    "        hovertemplate='%{value} unique users went from %{source.label} to %{target.label}.<br />' +\n",
    "        '<br />It took them %{label} in average.<extra></extra>',\n",
    "    ))])\n",
    "\n",
    "fig.update_layout(autosize=True, title_text=\"Sankey Showcase\", font=dict(size=15), plot_bgcolor='white')\n",
    "\n",
    "publish_to_web = False\n",
    "if publish_to_web:\n",
    "   py.iplot(fig, filename='user_journey')\n",
    "else:\n",
    "   fig.update_layout(width= 900, height=600)\n",
    "   fig.show()"
   ]
  }
 ]
}